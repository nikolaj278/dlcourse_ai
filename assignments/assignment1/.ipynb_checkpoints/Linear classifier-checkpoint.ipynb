{
 "cells": [
  {
   "cell_type": "markdown",
   "metadata": {},
   "source": [
    "# Задание 1.2 - Линейный классификатор (Linear classifier)\n",
    "\n",
    "В этом задании мы реализуем другую модель машинного обучения - линейный классификатор. Линейный классификатор подбирает для каждого класса веса, на которые нужно умножить значение каждого признака и потом сложить вместе.\n",
    "Тот класс, у которого эта сумма больше, и является предсказанием модели.\n",
    "\n",
    "В этом задании вы:\n",
    "- потренируетесь считать градиенты различных многомерных функций\n",
    "- реализуете подсчет градиентов через линейную модель и функцию потерь softmax\n",
    "- реализуете процесс тренировки линейного классификатора\n",
    "- подберете параметры тренировки на практике\n",
    "\n",
    "На всякий случай, еще раз ссылка на туториал по numpy:  \n",
    "http://cs231n.github.io/python-numpy-tutorial/"
   ]
  },
  {
   "cell_type": "code",
   "execution_count": 1,
   "metadata": {},
   "outputs": [],
   "source": [
    "import numpy as np\n",
    "import matplotlib.pyplot as plt\n",
    "\n",
    "%matplotlib inline\n",
    "\n",
    "%load_ext autoreload\n",
    "%autoreload 2"
   ]
  },
  {
   "cell_type": "code",
   "execution_count": 2,
   "metadata": {},
   "outputs": [],
   "source": [
    "from dataset import load_svhn, random_split_train_val\n",
    "from gradient_check import check_gradient\n",
    "from metrics import multiclass_accuracy \n",
    "import linear_classifer"
   ]
  },
  {
   "cell_type": "markdown",
   "metadata": {},
   "source": [
    "# Как всегда, первым делом загружаем данные\n",
    "\n",
    "Мы будем использовать все тот же SVHN."
   ]
  },
  {
   "cell_type": "code",
   "execution_count": 3,
   "metadata": {},
   "outputs": [],
   "source": [
    "def prepare_for_linear_classifier(train_X, test_X):\n",
    "    train_flat = train_X.reshape(train_X.shape[0], -1).astype(float) / 255.0\n",
    "    test_flat = test_X.reshape(test_X.shape[0], -1).astype(float) / 255.0\n",
    "    \n",
    "    # Subtract mean\n",
    "    mean_image = np.mean(train_flat, axis = 0)\n",
    "    train_flat -= mean_image\n",
    "    test_flat -= mean_image\n",
    "    \n",
    "    # Add another channel with ones as a bias term\n",
    "    train_flat_with_ones = np.hstack([train_flat, np.ones((train_X.shape[0], 1))])\n",
    "    test_flat_with_ones = np.hstack([test_flat, np.ones((test_X.shape[0], 1))])    \n",
    "    return train_flat_with_ones, test_flat_with_ones\n",
    "    \n",
    "train_X, train_y, test_X, test_y = load_svhn(\"data\", max_train=10000, max_test=1000)    \n",
    "train_X, test_X = prepare_for_linear_classifier(train_X, test_X)\n",
    "# Split train into train and val\n",
    "train_X, train_y, val_X, val_y = random_split_train_val(train_X, train_y, num_val = 1000)"
   ]
  },
  {
   "cell_type": "markdown",
   "metadata": {},
   "source": [
    "# Играемся с градиентами!\n",
    "\n",
    "В этом курсе мы будем писать много функций, которые вычисляют градиенты аналитическим методом.\n",
    "\n",
    "Все функции, в которых мы будем вычислять градиенты, будут написаны по одной и той же схеме.  \n",
    "Они будут получать на вход точку, где нужно вычислить значение и градиент функции, а на выходе будут выдавать кортеж (tuple) из двух значений - собственно значения функции в этой точке (всегда одно число) и аналитического значения градиента в той же точке (той же размерности, что и вход).\n",
    "```\n",
    "def f(x):\n",
    "    \"\"\"\n",
    "    Computes function and analytic gradient at x\n",
    "    \n",
    "    x: np array of float, input to the function\n",
    "    \n",
    "    Returns:\n",
    "    value: float, value of the function \n",
    "    grad: np array of float, same shape as x\n",
    "    \"\"\"\n",
    "    ...\n",
    "    \n",
    "    return value, grad\n",
    "```\n",
    "\n",
    "Необходимым инструментом во время реализации кода, вычисляющего градиенты, является функция его проверки. Эта функция вычисляет градиент численным методом и сверяет результат с градиентом, вычисленным аналитическим методом.\n",
    "\n",
    "Мы начнем с того, чтобы реализовать вычисление численного градиента (numeric gradient) в функции `check_gradient` в `gradient_check.py`. Эта функция будет принимать на вход функции формата, заданного выше, использовать значение `value` для вычисления численного градиента и сравнит его с аналитическим - они должны сходиться.\n",
    "\n",
    "Напишите часть функции, которая вычисляет градиент с помощью численной производной для каждой координаты. Для вычисления производной используйте так называемую two-point formula (https://en.wikipedia.org/wiki/Numerical_differentiation):\n",
    "\n",
    "![image](https://wikimedia.org/api/rest_v1/media/math/render/svg/22fc2c0a66c63560a349604f8b6b39221566236d)\n",
    "\n",
    "Все функции приведенные в следующей клетке должны проходить gradient check."
   ]
  },
  {
   "cell_type": "code",
   "execution_count": 4,
   "metadata": {
    "scrolled": true
   },
   "outputs": [
    {
     "name": "stdout",
     "output_type": "stream",
     "text": [
      "Gradient check passed!\n",
      "Gradient check passed!\n",
      "Gradient check passed!\n"
     ]
    },
    {
     "name": "stderr",
     "output_type": "stream",
     "text": [
      "/var/folders/l_/wqwbbtpx5vg9cbv3418dmll40000gn/T/ipykernel_6726/3146107952.py:5: DeprecationWarning: Conversion of an array with ndim > 0 to a scalar is deprecated, and will error in future. Ensure you extract a single element from your array before performing this operation. (Deprecated NumPy 1.25.)\n",
      "  return float(x*x), 2*x\n"
     ]
    },
    {
     "data": {
      "text/plain": [
       "True"
      ]
     },
     "execution_count": 4,
     "metadata": {},
     "output_type": "execute_result"
    }
   ],
   "source": [
    "# TODO: Implement check_gradient function in gradient_check.py\n",
    "# All the functions below should pass the gradient check\n",
    "\n",
    "def square(x):\n",
    "    return float(x*x), 2*x\n",
    "\n",
    "check_gradient(square, np.array([3.0]))\n",
    "\n",
    "def array_sum(x):\n",
    "    assert x.shape == (2,), x.shape\n",
    "    return np.sum(x), np.ones_like(x)\n",
    "\n",
    "check_gradient(array_sum, np.array([3.0, 2.0]))\n",
    "\n",
    "def array_2d_sum(x):\n",
    "    assert x.shape == (2,2)\n",
    "    return np.sum(x), np.ones_like(x)\n",
    "\n",
    "check_gradient(array_2d_sum, np.array([[3.0, 2.0], [1.0, 0.0]]))"
   ]
  },
  {
   "cell_type": "code",
   "execution_count": 5,
   "metadata": {},
   "outputs": [
    {
     "data": {
      "text/plain": [
       "array([[3.00001e+00, 2.00001e+00],\n",
       "       [1.00001e+00, 1.00000e-05]])"
      ]
     },
     "execution_count": 5,
     "metadata": {},
     "output_type": "execute_result"
    }
   ],
   "source": [
    "# np.sum(np.array([3.0, 2.0]) + 1e-5) - np.sum(np.array([3.0, 2.0]) - 1e-5)\n",
    "np.array([[3.0, 2.0], [1.0, 0.0]]) + 1e-5"
   ]
  },
  {
   "cell_type": "markdown",
   "metadata": {},
   "source": [
    "## Начинаем писать свои функции, считающие аналитический градиент\n",
    "\n",
    "Теперь реализуем функцию softmax, которая получает на вход оценки для каждого класса и преобразует их в вероятности от 0 до 1:\n",
    "![image](https://wikimedia.org/api/rest_v1/media/math/render/svg/e348290cf48ddbb6e9a6ef4e39363568b67c09d3)\n",
    "\n",
    "**Важно:** Практический аспект вычисления этой функции заключается в том, что в ней учавствует вычисление экспоненты от потенциально очень больших чисел - это может привести к очень большим значениям в числителе и знаменателе за пределами диапазона float.\n",
    "\n",
    "К счастью, у этой проблемы есть простое решение -- перед вычислением softmax вычесть из всех оценок максимальное значение среди всех оценок:\n",
    "```\n",
    "predictions -= np.max(predictions)\n",
    "```\n",
    "(подробнее здесь - http://cs231n.github.io/linear-classify/#softmax, секция `Practical issues: Numeric stability`)"
   ]
  },
  {
   "cell_type": "code",
   "execution_count": 6,
   "metadata": {},
   "outputs": [],
   "source": [
    "# TODO Implement softmax and cross-entropy for single sample\n",
    "probs = linear_classifer.softmax(np.array([-10, 0, 10]))\n",
    "\n",
    "# Make sure it works for big numbers too!\n",
    "probs = linear_classifer.softmax(np.array([1000, 0, 0]))\n",
    "assert np.isclose(probs[0], 1.0)"
   ]
  },
  {
   "cell_type": "markdown",
   "metadata": {},
   "source": [
    "Кроме этого, мы реализуем cross-entropy loss, которую мы будем использовать как функцию ошибки (error function).\n",
    "В общем виде cross-entropy определена следующим образом:\n",
    "![image](https://wikimedia.org/api/rest_v1/media/math/render/svg/0cb6da032ab424eefdca0884cd4113fe578f4293)\n",
    "\n",
    "где x - все классы, p(x) - истинная вероятность принадлежности сэмпла классу x, а q(x) - вероятность принадлежности классу x, предсказанная моделью.  \n",
    "В нашем случае сэмпл принадлежит только одному классу, индекс которого передается функции. Для него p(x) равна 1, а для остальных классов - 0. \n",
    "\n",
    "Это позволяет реализовать функцию проще!"
   ]
  },
  {
   "cell_type": "code",
   "execution_count": 7,
   "metadata": {},
   "outputs": [
    {
     "data": {
      "text/plain": [
       "np.float64(5.006760443547122)"
      ]
     },
     "execution_count": 7,
     "metadata": {},
     "output_type": "execute_result"
    }
   ],
   "source": [
    "probs = linear_classifer.softmax(np.array([-5, 0, 5]))\n",
    "linear_classifer.cross_entropy_loss(probs, 1)"
   ]
  },
  {
   "cell_type": "markdown",
   "metadata": {},
   "source": [
    "После того как мы реализовали сами функции, мы можем реализовать градиент.\n",
    "\n",
    "Оказывается, что вычисление градиента становится гораздо проще, если объединить эти функции в одну, которая сначала вычисляет вероятности через softmax, а потом использует их для вычисления функции ошибки через cross-entropy loss.\n",
    "\n",
    "Эта функция `softmax_with_cross_entropy` будет возвращает и значение ошибки, и градиент по входным параметрам. Мы проверим корректность реализации с помощью `check_gradient`."
   ]
  },
  {
   "cell_type": "code",
   "execution_count": 11,
   "metadata": {},
   "outputs": [
    {
     "name": "stdout",
     "output_type": "stream",
     "text": [
      "Gradient check passed!\n"
     ]
    },
    {
     "data": {
      "text/plain": [
       "True"
      ]
     },
     "execution_count": 11,
     "metadata": {},
     "output_type": "execute_result"
    }
   ],
   "source": [
    "# TODO Implement combined function or softmax and cross entropy and produces gradient\n",
    "loss, grad = linear_classifer.softmax_with_cross_entropy(np.array([1, 0, 0]), 1)\n",
    "check_gradient(lambda x: linear_classifer.softmax_with_cross_entropy(x, 1), np.array([1, 0, 0], float))"
   ]
  },
  {
   "cell_type": "markdown",
   "metadata": {},
   "source": [
    "В качестве метода тренировки мы будем использовать стохастический градиентный спуск (stochastic gradient descent или SGD), который работает с батчами сэмплов. \n",
    "\n",
    "Поэтому все наши фукнции будут получать не один пример, а батч, то есть входом будет не вектор из `num_classes` оценок, а матрица размерности `batch_size, num_classes`. Индекс примера в батче всегда будет первым измерением.\n",
    "\n",
    "Следующий шаг - переписать наши функции так, чтобы они поддерживали батчи.\n",
    "\n",
    "Финальное значение функции ошибки должно остаться числом, и оно равно среднему значению ошибки среди всех примеров в батче."
   ]
  },
  {
   "cell_type": "code",
   "execution_count": 13,
   "metadata": {},
   "outputs": [
    {
     "name": "stdout",
     "output_type": "stream",
     "text": [
      "Gradient check passed!\n",
      "Gradient check passed!\n"
     ]
    }
   ],
   "source": [
    "# TODO Extend combined function so it can receive a 2d array with batch of samples\n",
    "np.random.seed(42)\n",
    "# Test batch_size = 1\n",
    "num_classes = 4\n",
    "batch_size = 1\n",
    "predictions = np.random.randint(-1, 3, size=(batch_size, num_classes)).astype(float)\n",
    "target_index = np.random.randint(0, num_classes, size=(batch_size, 1)).astype(int)\n",
    "check_gradient(lambda x: linear_classifer.softmax_with_cross_entropy(x, target_index), predictions)\n",
    "\n",
    "# Test batch_size = 3\n",
    "num_classes = 4\n",
    "batch_size = 3\n",
    "predictions = np.random.randint(-1, 3, size=(batch_size, num_classes)).astype(float)\n",
    "target_index = np.random.randint(0, num_classes, size=(batch_size, 1)).astype(int)\n",
    "check_gradient(lambda x: linear_classifer.softmax_with_cross_entropy(x, target_index), predictions)\n",
    "\n",
    "# Make sure maximum subtraction for numberic stability is done separately for every sample in the batch\n",
    "probs = linear_classifer.softmax(np.array([[20,0,0], [1000, 0, 0]]))\n",
    "assert np.all(np.isclose(probs[:, 0], 1.0))"
   ]
  },
  {
   "cell_type": "markdown",
   "metadata": {},
   "source": [
    "### Наконец, реализуем сам линейный классификатор!\n",
    "\n",
    "softmax и cross-entropy получают на вход оценки, которые выдает линейный классификатор.\n",
    "\n",
    "Он делает это очень просто: для каждого класса есть набор весов, на которые надо умножить пиксели картинки и сложить. Получившееся число и является оценкой класса, идущей на вход softmax.\n",
    "\n",
    "Таким образом, линейный классификатор можно представить как умножение вектора с пикселями на матрицу W размера `num_features, num_classes`. Такой подход легко расширяется на случай батча векторов с пикселями X размера `batch_size, num_features`:\n",
    "\n",
    "`predictions = X * W`, где `*` - матричное умножение.\n",
    "\n",
    "Реализуйте функцию подсчета линейного классификатора и градиентов по весам `linear_softmax` в файле `linear_classifer.py`"
   ]
  },
  {
   "cell_type": "code",
   "execution_count": 14,
   "metadata": {},
   "outputs": [
    {
     "name": "stdout",
     "output_type": "stream",
     "text": [
      "Gradient check passed!\n"
     ]
    },
    {
     "data": {
      "text/plain": [
       "True"
      ]
     },
     "execution_count": 14,
     "metadata": {},
     "output_type": "execute_result"
    }
   ],
   "source": [
    "# TODO Implement linear_softmax function that uses softmax with cross-entropy for linear classifier\n",
    "batch_size = 2\n",
    "num_classes = 2\n",
    "num_features = 3\n",
    "np.random.seed(42)\n",
    "W = np.random.randint(-1, 3, size=(num_features, num_classes)).astype(float)\n",
    "X = np.random.randint(-1, 3, size=(batch_size, num_features)).astype(float)\n",
    "target_index = np.ones(batch_size, dtype=int)\n",
    "\n",
    "loss, dW = linear_classifer.linear_softmax(X, W, target_index)\n",
    "\n",
    "check_gradient(lambda W: linear_classifer.linear_softmax(X, W, target_index), W)"
   ]
  },
  {
   "cell_type": "code",
   "execution_count": null,
   "metadata": {},
   "outputs": [],
   "source": []
  },
  {
   "cell_type": "markdown",
   "metadata": {},
   "source": [
    "### И теперь регуляризация\n",
    "\n",
    "Мы будем использовать L2 regularization для весов как часть общей функции ошибки.\n",
    "\n",
    "Напомним, L2 regularization определяется как\n",
    "\n",
    "l2_reg_loss = regularization_strength * sum<sub>ij</sub> W[i, j]<sup>2</sup>\n",
    "\n",
    "Реализуйте функцию для его вычисления и вычисления соотвествующих градиентов."
   ]
  },
  {
   "cell_type": "code",
   "execution_count": 24,
   "metadata": {},
   "outputs": [
    {
     "name": "stdout",
     "output_type": "stream",
     "text": [
      "Gradient check passed!\n"
     ]
    },
    {
     "data": {
      "text/plain": [
       "True"
      ]
     },
     "execution_count": 24,
     "metadata": {},
     "output_type": "execute_result"
    }
   ],
   "source": [
    "# TODO Implement l2_regularization function that implements loss for L2 regularization\n",
    "linear_classifer.l2_regularization(W, 0.01)\n",
    "check_gradient(lambda w: linear_classifer.l2_regularization(w, 0.01), W)"
   ]
  },
  {
   "cell_type": "markdown",
   "metadata": {},
   "source": [
    "# Тренировка!"
   ]
  },
  {
   "cell_type": "markdown",
   "metadata": {},
   "source": [
    "Градиенты в порядке, реализуем процесс тренировки!"
   ]
  },
  {
   "cell_type": "code",
   "execution_count": 93,
   "metadata": {},
   "outputs": [
    {
     "name": "stdout",
     "output_type": "stream",
     "text": [
      "Epoch 0, loss: 904.591147\n",
      "Epoch 1, loss: 902.616812\n",
      "Epoch 2, loss: 933.746741\n",
      "Epoch 3, loss: 887.725166\n",
      "Epoch 4, loss: 968.021491\n",
      "Epoch 5, loss: 834.511436\n",
      "Epoch 6, loss: 1047.550794\n",
      "Epoch 7, loss: 878.411855\n",
      "Epoch 8, loss: 805.834123\n",
      "Epoch 9, loss: 921.675659\n",
      "Epoch 10, loss: 1029.112230\n",
      "Epoch 11, loss: 763.081279\n",
      "Epoch 12, loss: 941.911205\n",
      "Epoch 13, loss: 822.369366\n",
      "Epoch 14, loss: 1100.434095\n",
      "Epoch 15, loss: 824.717162\n",
      "Epoch 16, loss: 859.042644\n",
      "Epoch 17, loss: 943.785393\n",
      "Epoch 18, loss: 920.270933\n",
      "Epoch 19, loss: 869.268315\n"
     ]
    }
   ],
   "source": [
    "# TODO: Implement LinearSoftmaxClassifier.fit function\n",
    "classifier = linear_classifer.LinearSoftmaxClassifier()\n",
    "loss_history = classifier.fit(train_X, train_y, epochs=20, learning_rate=1e-3, batch_size=300, reg=1e1)"
   ]
  },
  {
   "cell_type": "code",
   "execution_count": 92,
   "metadata": {
    "scrolled": true
   },
   "outputs": [
    {
     "data": {
      "image/png": "[encoded data removed]",
      "text/plain": [
       "<Figure size 640x480 with 1 Axes>"
      ]
     },
     "metadata": {},
     "output_type": "display_data"
    }
   ],
   "source": [
    "# let's look at the loss history!\n",
    "plt.plot(loss_history);"
   ]
  },
  {
   "cell_type": "code",
   "execution_count": 94,
   "metadata": {
    "scrolled": true
   },
   "outputs": [
    {
     "name": "stdout",
     "output_type": "stream",
     "text": [
      "Accuracy:  0.177\n",
      "Epoch 0, loss: 713.850890\n",
      "Epoch 1, loss: 894.237480\n",
      "Epoch 2, loss: 1127.259589\n",
      "Epoch 3, loss: 823.900748\n",
      "Epoch 4, loss: 865.895540\n",
      "Epoch 5, loss: 905.203609\n",
      "Epoch 6, loss: 831.007365\n",
      "Epoch 7, loss: 989.802324\n",
      "Epoch 8, loss: 1120.045243\n",
      "Epoch 9, loss: 776.030741\n",
      "Epoch 10, loss: 954.952453\n",
      "Epoch 11, loss: 903.013155\n",
      "Epoch 12, loss: 770.948101\n",
      "Epoch 13, loss: 791.232100\n",
      "Epoch 14, loss: 1110.393105\n",
      "Epoch 15, loss: 856.269042\n",
      "Epoch 16, loss: 950.612776\n",
      "Epoch 17, loss: 769.020340\n",
      "Epoch 18, loss: 1109.178825\n",
      "Epoch 19, loss: 909.052151\n",
      "Epoch 20, loss: 827.025064\n",
      "Epoch 21, loss: 993.161984\n",
      "Epoch 22, loss: 849.147387\n",
      "Epoch 23, loss: 914.111335\n",
      "Epoch 24, loss: 877.900684\n",
      "Epoch 25, loss: 797.005205\n",
      "Epoch 26, loss: 863.126009\n",
      "Epoch 27, loss: 890.147427\n",
      "Epoch 28, loss: 836.094873\n",
      "Epoch 29, loss: 1123.400641\n",
      "Epoch 30, loss: 1087.530067\n",
      "Epoch 31, loss: 1047.102581\n",
      "Epoch 32, loss: 1112.067917\n",
      "Epoch 33, loss: 871.785786\n",
      "Epoch 34, loss: 868.446788\n",
      "Epoch 35, loss: 1063.239038\n",
      "Epoch 36, loss: 898.364945\n",
      "Epoch 37, loss: 995.295353\n",
      "Epoch 38, loss: 1035.994451\n",
      "Epoch 39, loss: 826.959602\n",
      "Epoch 40, loss: 931.156401\n",
      "Epoch 41, loss: 806.633789\n",
      "Epoch 42, loss: 923.473496\n",
      "Epoch 43, loss: 904.286855\n",
      "Epoch 44, loss: 1017.558454\n",
      "Epoch 45, loss: 911.846986\n",
      "Epoch 46, loss: 928.153889\n",
      "Epoch 47, loss: 828.955664\n",
      "Epoch 48, loss: 1178.438874\n",
      "Epoch 49, loss: 933.597156\n",
      "Epoch 50, loss: 851.717384\n",
      "Epoch 51, loss: 744.673591\n",
      "Epoch 52, loss: 782.657895\n",
      "Epoch 53, loss: 949.353468\n",
      "Epoch 54, loss: 900.499434\n",
      "Epoch 55, loss: 1291.053332\n",
      "Epoch 56, loss: 837.931823\n",
      "Epoch 57, loss: 815.322242\n",
      "Epoch 58, loss: 902.284395\n",
      "Epoch 59, loss: 933.026146\n",
      "Epoch 60, loss: 932.669881\n",
      "Epoch 61, loss: 964.234014\n",
      "Epoch 62, loss: 979.940573\n",
      "Epoch 63, loss: 999.729943\n",
      "Epoch 64, loss: 917.170540\n",
      "Epoch 65, loss: 853.836785\n",
      "Epoch 66, loss: 826.573933\n",
      "Epoch 67, loss: 810.609601\n",
      "Epoch 68, loss: 911.915115\n",
      "Epoch 69, loss: 1023.691895\n",
      "Epoch 70, loss: 894.137794\n",
      "Epoch 71, loss: 1016.656449\n",
      "Epoch 72, loss: 715.731996\n",
      "Epoch 73, loss: 871.805354\n",
      "Epoch 74, loss: 832.905623\n",
      "Epoch 75, loss: 839.661034\n",
      "Epoch 76, loss: 836.090148\n",
      "Epoch 77, loss: 899.714607\n",
      "Epoch 78, loss: 1182.780135\n",
      "Epoch 79, loss: 923.007520\n",
      "Epoch 80, loss: 814.980400\n",
      "Epoch 81, loss: 852.195775\n",
      "Epoch 82, loss: 887.460352\n",
      "Epoch 83, loss: 1114.543780\n",
      "Epoch 84, loss: 850.029402\n",
      "Epoch 85, loss: 812.437971\n",
      "Epoch 86, loss: 962.527998\n",
      "Epoch 87, loss: 760.507467\n",
      "Epoch 88, loss: 962.578781\n",
      "Epoch 89, loss: 895.519484\n",
      "Epoch 90, loss: 881.708425\n",
      "Epoch 91, loss: 986.278797\n",
      "Epoch 92, loss: 983.872262\n",
      "Epoch 93, loss: 899.426573\n",
      "Epoch 94, loss: 948.960014\n",
      "Epoch 95, loss: 902.027808\n",
      "Epoch 96, loss: 829.719287\n",
      "Epoch 97, loss: 870.807486\n",
      "Epoch 98, loss: 847.092862\n",
      "Epoch 99, loss: 948.532917\n",
      "Accuracy after training for 100 epochs:  0.144\n"
     ]
    }
   ],
   "source": [
    "# Let's check how it performs on validation set\n",
    "pred = classifier.predict(val_X)\n",
    "accuracy = multiclass_accuracy(pred, val_y)\n",
    "print(\"Accuracy: \", accuracy)\n",
    "\n",
    "# Now, let's train more and see if it performs better\n",
    "classifier.fit(train_X, train_y, epochs=100, learning_rate=1e-3, batch_size=300, reg=1e1)\n",
    "pred = classifier.predict(val_X)\n",
    "accuracy = multiclass_accuracy(pred, val_y)\n",
    "print(\"Accuracy after training for 100 epochs: \", accuracy)"
   ]
  },
  {
   "cell_type": "markdown",
   "metadata": {},
   "source": [
    "### Как и раньше, используем кросс-валидацию для подбора гиперпараметтов.\n",
    "\n",
    "В этот раз, чтобы тренировка занимала разумное время, мы будем использовать только одно разделение на тренировочные (training) и проверочные (validation) данные.\n",
    "\n",
    "Теперь нам нужно подобрать не один, а два гиперпараметра! Не ограничивайте себя изначальными значениями в коде.  \n",
    "Добейтесь точности более чем **20%** на проверочных данных (validation data)."
   ]
  },
  {
   "cell_type": "code",
   "execution_count": 113,
   "metadata": {
    "scrolled": true
   },
   "outputs": [
    {
     "name": "stdout",
     "output_type": "stream",
     "text": [
      "Epoch 0, loss: 817.772358\n",
      "Epoch 1, loss: 793.035321\n",
      "Epoch 2, loss: 879.815038\n",
      "Epoch 3, loss: 922.061097\n",
      "Epoch 4, loss: 855.520092\n",
      "Epoch 5, loss: 840.744540\n",
      "Epoch 6, loss: 684.617357\n",
      "Epoch 7, loss: 850.062316\n",
      "Epoch 8, loss: 784.805345\n",
      "Epoch 9, loss: 887.124947\n",
      "Epoch 10, loss: 823.340532\n",
      "Epoch 11, loss: 712.950310\n",
      "Epoch 12, loss: 912.286559\n",
      "Epoch 13, loss: 698.095796\n",
      "Epoch 14, loss: 904.341341\n",
      "Epoch 15, loss: 771.880392\n",
      "Epoch 16, loss: 662.768083\n",
      "Epoch 17, loss: 816.508393\n",
      "Epoch 18, loss: 693.835254\n",
      "Epoch 19, loss: 800.376610\n",
      "Epoch 0, loss: 742.763863\n",
      "Epoch 1, loss: 744.920930\n",
      "Epoch 2, loss: 920.592907\n",
      "Epoch 3, loss: 934.599497\n",
      "Epoch 4, loss: 854.668543\n",
      "Epoch 5, loss: 848.552633\n",
      "Epoch 6, loss: 739.077064\n",
      "Epoch 7, loss: 855.884701\n",
      "Epoch 8, loss: 792.555326\n",
      "Epoch 9, loss: 831.604380\n",
      "Epoch 10, loss: 751.988291\n",
      "Epoch 11, loss: 741.417801\n",
      "Epoch 12, loss: 829.139240\n",
      "Epoch 13, loss: 847.074522\n",
      "Epoch 14, loss: 704.414369\n",
      "Epoch 15, loss: 822.170851\n",
      "Epoch 16, loss: 776.594418\n",
      "Epoch 17, loss: 897.358912\n",
      "Epoch 18, loss: 757.798462\n",
      "Epoch 19, loss: 945.102113\n",
      "Epoch 0, loss: 874.016708\n",
      "Epoch 1, loss: 766.642100\n",
      "Epoch 2, loss: 661.503692\n",
      "Epoch 3, loss: 926.509054\n",
      "Epoch 4, loss: 840.346871\n",
      "Epoch 5, loss: 692.775008\n",
      "Epoch 6, loss: 796.245054\n",
      "Epoch 7, loss: 722.963235\n",
      "Epoch 8, loss: 790.341584\n",
      "Epoch 9, loss: 914.925950\n",
      "Epoch 10, loss: 782.882682\n",
      "Epoch 11, loss: 674.969327\n",
      "Epoch 12, loss: 662.497505\n",
      "Epoch 13, loss: 759.532872\n",
      "Epoch 14, loss: 767.531679\n",
      "Epoch 15, loss: 757.670666\n",
      "Epoch 16, loss: 797.900409\n",
      "Epoch 17, loss: 707.866117\n",
      "Epoch 18, loss: 705.406307\n",
      "Epoch 19, loss: 756.539859\n",
      "Epoch 0, loss: 605.201048\n",
      "Epoch 1, loss: 624.689422\n",
      "Epoch 2, loss: 591.653013\n",
      "Epoch 3, loss: 611.239307\n",
      "Epoch 4, loss: 585.437509\n",
      "Epoch 5, loss: 592.656963\n",
      "Epoch 6, loss: 613.046989\n",
      "Epoch 7, loss: 588.586414\n",
      "Epoch 8, loss: 601.278786\n",
      "Epoch 9, loss: 581.445670\n",
      "Epoch 10, loss: 602.773622\n",
      "Epoch 11, loss: 618.324440\n",
      "Epoch 12, loss: 600.926553\n",
      "Epoch 13, loss: 599.952643\n",
      "Epoch 14, loss: 601.348542\n",
      "Epoch 15, loss: 601.746321\n",
      "Epoch 16, loss: 607.631642\n",
      "Epoch 17, loss: 611.733008\n",
      "Epoch 18, loss: 586.051188\n",
      "Epoch 19, loss: 613.872484\n",
      "Epoch 0, loss: 593.162444\n",
      "Epoch 1, loss: 574.722479\n",
      "Epoch 2, loss: 609.437526\n",
      "Epoch 3, loss: 605.255575\n",
      "Epoch 4, loss: 598.810006\n",
      "Epoch 5, loss: 609.369788\n",
      "Epoch 6, loss: 592.824126\n",
      "Epoch 7, loss: 599.216175\n",
      "Epoch 8, loss: 596.609806\n",
      "Epoch 9, loss: 612.116182\n",
      "Epoch 10, loss: 592.130071\n",
      "Epoch 11, loss: 583.402906\n",
      "Epoch 12, loss: 623.018960\n",
      "Epoch 13, loss: 598.729352\n",
      "Epoch 14, loss: 619.024347\n",
      "Epoch 15, loss: 615.055801\n",
      "Epoch 16, loss: 582.819314\n",
      "Epoch 17, loss: 599.258342\n",
      "Epoch 18, loss: 596.518160\n",
      "Epoch 19, loss: 609.691592\n",
      "Epoch 0, loss: 621.708713\n",
      "Epoch 1, loss: 598.063948\n",
      "Epoch 2, loss: 572.823849\n",
      "Epoch 3, loss: 608.302910\n",
      "Epoch 4, loss: 619.889516\n",
      "Epoch 5, loss: 581.859168\n",
      "Epoch 6, loss: 587.359144\n",
      "Epoch 7, loss: 581.782985\n",
      "Epoch 8, loss: 595.296665\n",
      "Epoch 9, loss: 572.950565\n",
      "Epoch 10, loss: 609.260189\n",
      "Epoch 11, loss: 580.980404\n",
      "Epoch 12, loss: 601.367851\n",
      "Epoch 13, loss: 620.131329\n",
      "Epoch 14, loss: 608.786312\n",
      "Epoch 15, loss: 620.197935\n",
      "Epoch 16, loss: 628.953247\n",
      "Epoch 17, loss: 594.655200\n",
      "Epoch 18, loss: 608.899439\n",
      "Epoch 19, loss: 604.357639\n",
      "Epoch 0, loss: 574.639948\n",
      "Epoch 1, loss: 607.366056\n",
      "Epoch 2, loss: 601.535581\n",
      "Epoch 3, loss: 618.688689\n",
      "Epoch 4, loss: 593.665148\n",
      "Epoch 5, loss: 602.145871\n",
      "Epoch 6, loss: 593.813620\n",
      "Epoch 7, loss: 593.476943\n",
      "Epoch 8, loss: 585.697726\n",
      "Epoch 9, loss: 595.529655\n",
      "Epoch 10, loss: 577.801213\n",
      "Epoch 11, loss: 608.036133\n",
      "Epoch 12, loss: 600.227411\n",
      "Epoch 13, loss: 581.665478\n",
      "Epoch 14, loss: 583.576293\n",
      "Epoch 15, loss: 606.196454\n",
      "Epoch 16, loss: 593.701063\n",
      "Epoch 17, loss: 591.407604\n",
      "Epoch 18, loss: 608.590066\n",
      "Epoch 19, loss: 618.505613\n",
      "Epoch 0, loss: 601.698256\n",
      "Epoch 1, loss: 596.859512\n",
      "Epoch 2, loss: 590.778759\n",
      "Epoch 3, loss: 596.945163\n",
      "Epoch 4, loss: 604.061798\n",
      "Epoch 5, loss: 621.594992\n",
      "Epoch 6, loss: 603.943363\n",
      "Epoch 7, loss: 602.392008\n",
      "Epoch 8, loss: 603.607420\n",
      "Epoch 9, loss: 583.937807\n",
      "Epoch 10, loss: 600.539929\n",
      "Epoch 11, loss: 581.833279\n",
      "Epoch 12, loss: 596.842988\n",
      "Epoch 13, loss: 592.009818\n",
      "Epoch 14, loss: 606.282189\n",
      "Epoch 15, loss: 601.944212\n",
      "Epoch 16, loss: 595.833109\n",
      "Epoch 17, loss: 622.615423\n",
      "Epoch 18, loss: 607.607063\n",
      "Epoch 19, loss: 596.271535\n",
      "Epoch 0, loss: 596.348961\n",
      "Epoch 1, loss: 592.602211\n",
      "Epoch 2, loss: 602.593737\n",
      "Epoch 3, loss: 578.774358\n",
      "Epoch 4, loss: 596.349409\n",
      "Epoch 5, loss: 571.596473\n",
      "Epoch 6, loss: 583.811761\n",
      "Epoch 7, loss: 586.767894\n",
      "Epoch 8, loss: 595.495398\n",
      "Epoch 9, loss: 587.435344\n",
      "Epoch 10, loss: 574.476063\n",
      "Epoch 11, loss: 585.347836\n",
      "Epoch 12, loss: 588.592798\n",
      "Epoch 13, loss: 596.428675\n",
      "Epoch 14, loss: 599.417711\n",
      "Epoch 15, loss: 603.140821\n",
      "Epoch 16, loss: 584.255150\n",
      "Epoch 17, loss: 591.519436\n",
      "Epoch 18, loss: 600.535228\n",
      "Epoch 19, loss: 586.778200\n",
      "best validation accuracy achieved: 0.254000\n",
      "CPU times: user 1min 26s, sys: 5.55 s, total: 1min 31s\n",
      "Wall time: 48.8 s\n"
     ]
    }
   ],
   "source": [
    "%%time\n",
    "\n",
    "from grid_search import diy_GridSearch\n",
    "\n",
    "num_epochs = [20,]\n",
    "batch_size = [300,]\n",
    "\n",
    "learning_rates = [1e-3, 1e-4, 1e-5, 1e-6, 1e-7]\n",
    "reg_strengths = [1e-4, 1e-5, 1e-6, 1e-7]\n",
    "\n",
    "classifier = linear_classifer.LinearSoftmaxClassifier()\n",
    "search = diy_GridSearch(classifier, num_epochs, learning_rates, batch_size, reg_strengths)\n",
    "search.fit(train_X, train_y, val_X, val_y)\n",
    "best_classifier = search.best_classifier\n",
    "best_val_accuracy = search.best_val_accuracy\n",
    "\n",
    "# TODO use validation set to find the best hyperparameters\n",
    "# hint: for best results, you might need to try more values for learning rate and regularization strength \n",
    "# than provided initially\n",
    "\n",
    "print('best validation accuracy achieved: %f' % best_val_accuracy)"
   ]
  },
  {
   "cell_type": "code",
   "execution_count": null,
   "metadata": {},
   "outputs": [],
   "source": []
  },
  {
   "cell_type": "markdown",
   "metadata": {},
   "source": [
    "# Какой же точности мы добились на тестовых данных?"
   ]
  },
  {
   "cell_type": "code",
   "execution_count": 114,
   "metadata": {},
   "outputs": [
    {
     "name": "stdout",
     "output_type": "stream",
     "text": [
      "Linear softmax classifier test set accuracy: 0.206000\n"
     ]
    }
   ],
   "source": [
    "test_pred = best_classifier.predict(test_X)\n",
    "test_accuracy = multiclass_accuracy(test_pred, test_y)\n",
    "print('Linear softmax classifier test set accuracy: %f' % (test_accuracy, ))"
   ]
  },
  {
   "cell_type": "code",
   "execution_count": null,
   "metadata": {},
   "outputs": [],
   "source": []
  }
 ],
 "metadata": {
  "kernelspec": {
   "display_name": "Python 3 (ipykernel)",
   "language": "python",
   "name": "python3"
  },
  "language_info": {
   "codemirror_mode": {
    "name": "ipython",
    "version": 3
   },
   "file_extension": ".py",
   "mimetype": "text/x-python",
   "name": "python",
   "nbconvert_exporter": "python",
   "pygments_lexer": "ipython3",
   "version": "3.10.18"
  }
 },
 "nbformat": 4,
 "nbformat_minor": 4
}
